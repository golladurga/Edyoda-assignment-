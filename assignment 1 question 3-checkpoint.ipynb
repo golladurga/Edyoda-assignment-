{
 "cells": [
  {
   "cell_type": "code",
   "execution_count": 2,
   "id": "d1661b24",
   "metadata": {},
   "outputs": [
    {
     "name": "stdout",
     "output_type": "stream",
     "text": [
      "total even no's present in tuples 4\n",
      "total odd no's present in tuples 5\n"
     ]
    }
   ],
   "source": [
    "tuples=(1,2,3,4,5,6,7,8,9)\n",
    "check_even=0\n",
    "check_odd=0\n",
    "for i in tuples:\n",
    "    if i%2==0:\n",
    "        check_even+=1\n",
    "    else :\n",
    "        check_odd+=1\n",
    "print(\"total even no's present in tuples\",check_even) \n",
    "print(\"total odd no's present in tuples\",check_odd) \n",
    "    "
   ]
  },
  {
   "cell_type": "code",
   "execution_count": null,
   "id": "dfee3452",
   "metadata": {},
   "outputs": [],
   "source": []
  }
 ],
 "metadata": {
  "kernelspec": {
   "display_name": "Python 3 (ipykernel)",
   "language": "python",
   "name": "python3"
  },
  "language_info": {
   "codemirror_mode": {
    "name": "ipython",
    "version": 3
   },
   "file_extension": ".py",
   "mimetype": "text/x-python",
   "name": "python",
   "nbconvert_exporter": "python",
   "pygments_lexer": "ipython3",
   "version": "3.10.9"
  }
 },
 "nbformat": 4,
 "nbformat_minor": 5
}
