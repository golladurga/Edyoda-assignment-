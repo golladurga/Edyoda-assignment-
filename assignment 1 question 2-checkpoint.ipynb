{
 "cells": [
  {
   "cell_type": "code",
   "execution_count": 8,
   "id": "dfe2605c",
   "metadata": {},
   "outputs": [
    {
     "name": "stdout",
     "output_type": "stream",
     "text": [
      "enter a stringsravani\n",
      "inavars\n"
     ]
    }
   ],
   "source": [
    "int=input(\"enter a string\")\n",
    "s=\"\"\n",
    "for i in int:\n",
    "    s=i+s\n",
    "print(s)    "
   ]
  },
  {
   "cell_type": "code",
   "execution_count": null,
   "id": "19ff1cd4",
   "metadata": {},
   "outputs": [],
   "source": []
  }
 ],
 "metadata": {
  "kernelspec": {
   "display_name": "Python 3 (ipykernel)",
   "language": "python",
   "name": "python3"
  },
  "language_info": {
   "codemirror_mode": {
    "name": "ipython",
    "version": 3
   },
   "file_extension": ".py",
   "mimetype": "text/x-python",
   "name": "python",
   "nbconvert_exporter": "python",
   "pygments_lexer": "ipython3",
   "version": "3.10.9"
  }
 },
 "nbformat": 4,
 "nbformat_minor": 5
}
